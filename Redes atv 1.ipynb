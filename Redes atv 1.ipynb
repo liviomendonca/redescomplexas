{
 "cells": [
  {
   "cell_type": "markdown",
   "metadata": {},
   "source": [
    "Identificar o numero de nodes e criar matrizes nulas, uma para a rede não-direcionada e outra para a rede direcionada"
   ]
  },
  {
   "cell_type": "code",
   "execution_count": 1,
   "metadata": {},
   "outputs": [],
   "source": [
    "f = open(\"Rede_teste.txt\", 'r')\n",
    "vetor = []\n",
    "for k in f.readlines(): \n",
    "    j = k.split()\n",
    "    a = int(j[0])\n",
    "    b = int(j[1])\n",
    "    vetor.append(a)\n",
    "    vetor.append(b)\n",
    "\n",
    "n=max(vetor)\n",
    "matriz_nd = [[0] * n for i in range(n)]\n",
    "matriz_dr = [[0] * n for i in range(n)]"
   ]
  },
  {
   "cell_type": "markdown",
   "metadata": {},
   "source": [
    "Popular a matriz de adjacência (rede não-direcionada)"
   ]
  },
  {
   "cell_type": "code",
   "execution_count": 2,
   "metadata": {},
   "outputs": [
    {
     "name": "stdout",
     "output_type": "stream",
     "text": [
      "[[0, 0, 1, 1, 0, 0, 0], [0, 0, 0, 1, 0, 0, 0], [1, 0, 0, 0, 0, 0, 1], [1, 1, 0, 0, 1, 0, 0], [0, 0, 0, 1, 0, 1, 1], [0, 0, 0, 0, 1, 0, 1], [0, 0, 1, 0, 1, 1, 0]]\n"
     ]
    }
   ],
   "source": [
    "f = open(\"Rede_teste.txt\", 'r')\n",
    "\n",
    "for i in f.readlines():\n",
    "    j = i.split()\n",
    "    a = int(j[0])\n",
    "    b = int(j[1])\n",
    "    matriz_nd[a-1][b-1] = 1\n",
    "    matriz_nd[b-1][a-1] = 1\n",
    "print(matriz_nd)"
   ]
  },
  {
   "cell_type": "markdown",
   "metadata": {},
   "source": [
    "Popular a matriz de adjacência (rede direcionada)"
   ]
  },
  {
   "cell_type": "code",
   "execution_count": 3,
   "metadata": {},
   "outputs": [
    {
     "name": "stdout",
     "output_type": "stream",
     "text": [
      "[[0, 0, 1, 1, 0, 0, 0], [0, 0, 0, 0, 0, 0, 0], [0, 0, 0, 0, 0, 0, 0], [0, 1, 0, 0, 1, 0, 0], [0, 0, 0, 0, 0, 1, 0], [0, 0, 0, 0, 1, 0, 0], [0, 0, 1, 0, 1, 1, 0]]\n"
     ]
    }
   ],
   "source": [
    "f = open(\"Rede_teste.txt\", 'r')\n",
    "\n",
    "for i in f.readlines():\n",
    "    j = i.split()\n",
    "    a = int(j[0])\n",
    "    b = int(j[1])\n",
    "    matriz_dr[a-1][b-1] = 1\n",
    "print(matriz_dr)"
   ]
  },
  {
   "cell_type": "markdown",
   "metadata": {},
   "source": [
    "Cálculo do grau de cada nó para rede não-direcionada"
   ]
  },
  {
   "cell_type": "code",
   "execution_count": 4,
   "metadata": {},
   "outputs": [
    {
     "name": "stdout",
     "output_type": "stream",
     "text": [
      "[2, 1, 2, 3, 3, 2, 3]\n"
     ]
    }
   ],
   "source": [
    "k_nd=[]\n",
    "for i in range(n):\n",
    "    x = 0\n",
    "    for j in range(n):\n",
    "        x = x + matriz_nd[i][j]\n",
    "    \n",
    "    k_nd.append(x)\n",
    "\n",
    "print(k_nd)"
   ]
  },
  {
   "cell_type": "markdown",
   "metadata": {},
   "source": [
    "Cálculo do grau de cada nó para rede direcionada\n",
    "\n",
    "Grau de entrada:"
   ]
  },
  {
   "cell_type": "code",
   "execution_count": 5,
   "metadata": {},
   "outputs": [
    {
     "name": "stdout",
     "output_type": "stream",
     "text": [
      "[2, 0, 0, 2, 1, 1, 3]\n"
     ]
    }
   ],
   "source": [
    "k_in=[]\n",
    "for i in range(n):\n",
    "    x = 0\n",
    "    for j in range(n):\n",
    "        x = x + matriz_dr[i][j]\n",
    "    \n",
    "    k_in.append(x)\n",
    "\n",
    "print(k_in)"
   ]
  },
  {
   "cell_type": "markdown",
   "metadata": {},
   "source": [
    "Grau de saída:"
   ]
  },
  {
   "cell_type": "code",
   "execution_count": 6,
   "metadata": {},
   "outputs": [
    {
     "name": "stdout",
     "output_type": "stream",
     "text": [
      "[0, 1, 2, 1, 3, 2, 0]\n"
     ]
    }
   ],
   "source": [
    "k_out=[]\n",
    "for i in range(n):\n",
    "    x = 0\n",
    "    for j in range(n):\n",
    "        x = x + matriz_dr[j][i]\n",
    "    \n",
    "    k_out.append(x)\n",
    "\n",
    "print(k_out)"
   ]
  },
  {
   "cell_type": "markdown",
   "metadata": {},
   "source": [
    "Cálculo do grau médio da rede não-direcionada"
   ]
  },
  {
   "cell_type": "code",
   "execution_count": 7,
   "metadata": {},
   "outputs": [
    {
     "name": "stdout",
     "output_type": "stream",
     "text": [
      "2.2857142857142856\n"
     ]
    }
   ],
   "source": [
    "km_nd = 0\n",
    "for i in range(n):\n",
    "    km_nd = km_nd + k_nd[i]\n",
    "\n",
    "km_nd = km_nd/n\n",
    "print(km_nd)"
   ]
  },
  {
   "cell_type": "markdown",
   "metadata": {},
   "source": [
    "Cálculo do grau médio da rede direcionada"
   ]
  },
  {
   "cell_type": "code",
   "execution_count": 8,
   "metadata": {},
   "outputs": [
    {
     "name": "stdout",
     "output_type": "stream",
     "text": [
      "1.2857142857142858\n"
     ]
    }
   ],
   "source": [
    "km_dr = 0\n",
    "for i in range(n):\n",
    "    km_dr = km_dr + k_in[i]\n",
    "\n",
    "km_dr = km_dr/n\n",
    "print(km_dr)"
   ]
  },
  {
   "cell_type": "markdown",
   "metadata": {},
   "source": [
    "Distribuição do grau da rede (não-direcionada)"
   ]
  },
  {
   "cell_type": "markdown",
   "metadata": {},
   "source": [
    "Distribuição do grau da rede (direcionada)"
   ]
  }
 ],
 "metadata": {
  "interpreter": {
   "hash": "b89b5cfaba6639976dc87ff2fec6d58faec662063367e2c229c520fe71072417"
  },
  "kernelspec": {
   "display_name": "Python 3.10.4 64-bit",
   "language": "python",
   "name": "python3"
  },
  "language_info": {
   "codemirror_mode": {
    "name": "ipython",
    "version": 3
   },
   "file_extension": ".py",
   "mimetype": "text/x-python",
   "name": "python",
   "nbconvert_exporter": "python",
   "pygments_lexer": "ipython3",
   "version": "3.10.4"
  },
  "orig_nbformat": 4
 },
 "nbformat": 4,
 "nbformat_minor": 2
}
