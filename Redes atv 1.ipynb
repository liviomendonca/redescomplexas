{
 "cells": [
  {
   "cell_type": "markdown",
   "metadata": {},
   "source": [
    "Identificar o numero de nodes e criar matrizes nulas, uma para a rede não-direcionada e outra para a rede direcionada"
   ]
  },
  {
   "cell_type": "code",
   "execution_count": 1,
   "metadata": {},
   "outputs": [],
   "source": [
    "f = open(\"Rede_teste.txt\", 'r')\n",
    "vetor = []\n",
    "for k in f.readlines(): \n",
    "    j = k.split()\n",
    "    a = int(j[0])\n",
    "    b = int(j[1])\n",
    "    vetor.append(a)\n",
    "    vetor.append(b)\n",
    "\n",
    "n=max(vetor)\n",
    "matriz_nd = [[0] * n for i in range(n)]\n",
    "matriz_dr = [[0] * n for i in range(n)]"
   ]
  },
  {
   "cell_type": "markdown",
   "metadata": {},
   "source": [
    "Popular a matriz de adjacência (rede não-direcionada)"
   ]
  },
  {
   "cell_type": "code",
   "execution_count": 2,
   "metadata": {},
   "outputs": [
    {
     "name": "stdout",
     "output_type": "stream",
     "text": [
      "[[0, 0, 1, 1, 0, 0, 0], [0, 0, 0, 1, 0, 0, 0], [1, 0, 0, 0, 0, 0, 1], [1, 1, 0, 0, 1, 0, 0], [0, 0, 0, 1, 0, 1, 1], [0, 0, 0, 0, 1, 0, 1], [0, 0, 1, 0, 1, 1, 0]]\n"
     ]
    }
   ],
   "source": [
    "f = open(\"Rede_teste.txt\", 'r')\n",
    "\n",
    "for i in f.readlines():\n",
    "    j = i.split()\n",
    "    a = int(j[0]) #linha da matriz adj\n",
    "    b = int(j[1]) #coluna da matriz adj\n",
    "    matriz_nd[a-1][b-1] = 1\n",
    "    matriz_nd[b-1][a-1] = 1\n",
    "print(matriz_nd)"
   ]
  },
  {
   "cell_type": "markdown",
   "metadata": {},
   "source": [
    "Popular a matriz de adjacência (rede direcionada)"
   ]
  },
  {
   "cell_type": "code",
   "execution_count": 3,
   "metadata": {},
   "outputs": [
    {
     "name": "stdout",
     "output_type": "stream",
     "text": [
      "[[0, 0, 1, 1, 0, 0, 0], [0, 0, 0, 0, 0, 0, 0], [0, 0, 0, 0, 0, 0, 0], [0, 1, 0, 0, 1, 0, 0], [0, 0, 0, 0, 0, 1, 0], [0, 0, 0, 0, 1, 0, 0], [0, 0, 1, 0, 1, 1, 0]]\n"
     ]
    }
   ],
   "source": [
    "f = open(\"Rede_teste.txt\", 'r')\n",
    "\n",
    "for i in f.readlines():\n",
    "    j = i.split()\n",
    "    a = int(j[0])\n",
    "    b = int(j[1])\n",
    "    matriz_dr[a-1][b-1] = 1\n",
    "print(matriz_dr)"
   ]
  },
  {
   "cell_type": "markdown",
   "metadata": {},
   "source": [
    "Cálculo do grau de cada nó para rede não-direcionada"
   ]
  },
  {
   "cell_type": "code",
   "execution_count": 4,
   "metadata": {},
   "outputs": [
    {
     "name": "stdout",
     "output_type": "stream",
     "text": [
      "[2, 1, 2, 3, 3, 2, 3]\n"
     ]
    }
   ],
   "source": [
    "k_nd=[]\n",
    "for i in range(n):\n",
    "    x = 0\n",
    "    for j in range(n):\n",
    "        x = x + matriz_nd[i][j]\n",
    "    \n",
    "    k_nd.append(x)\n",
    "\n",
    "print(k_nd)"
   ]
  },
  {
   "cell_type": "markdown",
   "metadata": {},
   "source": [
    "Cálculo do grau de cada nó para rede direcionada\n",
    "\n",
    "Grau de entrada:"
   ]
  },
  {
   "cell_type": "code",
   "execution_count": 5,
   "metadata": {},
   "outputs": [
    {
     "name": "stdout",
     "output_type": "stream",
     "text": [
      "[2, 0, 0, 2, 1, 1, 3]\n"
     ]
    }
   ],
   "source": [
    "k_in=[]\n",
    "for i in range(n):\n",
    "    x = 0\n",
    "    for j in range(n):\n",
    "        x = x + matriz_dr[i][j]\n",
    "    \n",
    "    k_in.append(x)\n",
    "\n",
    "print(k_in)"
   ]
  },
  {
   "cell_type": "markdown",
   "metadata": {},
   "source": [
    "Grau de saída:"
   ]
  },
  {
   "cell_type": "code",
   "execution_count": 6,
   "metadata": {},
   "outputs": [
    {
     "name": "stdout",
     "output_type": "stream",
     "text": [
      "[0, 1, 2, 1, 3, 2, 0]\n"
     ]
    }
   ],
   "source": [
    "k_out=[]\n",
    "for i in range(n):\n",
    "    x = 0\n",
    "    for j in range(n):\n",
    "        x = x + matriz_dr[j][i]\n",
    "    \n",
    "    k_out.append(x)\n",
    "\n",
    "print(k_out)"
   ]
  },
  {
   "cell_type": "markdown",
   "metadata": {},
   "source": [
    "Cálculo do grau médio da rede não-direcionada"
   ]
  },
  {
   "cell_type": "code",
   "execution_count": 7,
   "metadata": {},
   "outputs": [
    {
     "name": "stdout",
     "output_type": "stream",
     "text": [
      "2.2857142857142856\n"
     ]
    }
   ],
   "source": [
    "km_nd = 0\n",
    "for i in range(n):\n",
    "    km_nd = km_nd + k_nd[i]\n",
    "\n",
    "km_nd = km_nd/n\n",
    "print(km_nd)"
   ]
  },
  {
   "cell_type": "markdown",
   "metadata": {},
   "source": [
    "Cálculo do grau médio da rede direcionada"
   ]
  },
  {
   "cell_type": "code",
   "execution_count": 8,
   "metadata": {},
   "outputs": [
    {
     "name": "stdout",
     "output_type": "stream",
     "text": [
      "1.2857142857142858\n"
     ]
    }
   ],
   "source": [
    "km_dr = 0\n",
    "for i in range(n):\n",
    "    km_dr = km_dr + k_in[i]\n",
    "\n",
    "km_dr = km_dr/n\n",
    "print(km_dr)"
   ]
  },
  {
   "cell_type": "markdown",
   "metadata": {},
   "source": [
    "Distribuição do grau da rede (não-direcionada)"
   ]
  },
  {
   "cell_type": "code",
   "execution_count": 9,
   "metadata": {},
   "outputs": [
    {
     "name": "stdout",
     "output_type": "stream",
     "text": [
      "[1, 2, 3]\n"
     ]
    }
   ],
   "source": [
    "# Graus da rede (da rede, não dos nós)\n",
    "graus_rede_nd = list(set(k_nd))\n",
    "\n",
    "print(graus_rede_nd)"
   ]
  },
  {
   "cell_type": "code",
   "execution_count": 10,
   "metadata": {},
   "outputs": [
    {
     "name": "stdout",
     "output_type": "stream",
     "text": [
      "[1, 3, 3]\n",
      "[0.14285714285714285, 0.42857142857142855, 0.42857142857142855]\n",
      "1.0\n"
     ]
    }
   ],
   "source": [
    "Nk_nd = [] # qtd de nós com grau k rede não direcionada\n",
    "Pk_nd = [] # probabilidade\n",
    "\n",
    "for i in range(len(graus_rede_nd)):\n",
    "    Nk_nd.append(k_nd.count(graus_rede_nd[i]))\n",
    "\n",
    "print(Nk_nd)\n",
    "\n",
    "for i in range(len(Nk_nd)):\n",
    "    Pk_nd.append(Nk_nd[i]/7) # a rede tem 7 nós\n",
    "\n",
    "print(Pk_nd)\n",
    "print(sum(Pk_nd))"
   ]
  },
  {
   "cell_type": "markdown",
   "metadata": {},
   "source": [
    "Distribuição do grau da rede (direcionada)"
   ]
  },
  {
   "cell_type": "markdown",
   "metadata": {},
   "source": [
    "DE ENTRADA"
   ]
  },
  {
   "cell_type": "code",
   "execution_count": 11,
   "metadata": {},
   "outputs": [
    {
     "name": "stdout",
     "output_type": "stream",
     "text": [
      "[0, 1, 2, 3]\n"
     ]
    }
   ],
   "source": [
    "# Graus da rede (da rede, não dos nós)\n",
    "graus_rede_in = list(set(k_in))\n",
    "\n",
    "print(graus_rede_in)"
   ]
  },
  {
   "cell_type": "code",
   "execution_count": 12,
   "metadata": {},
   "outputs": [
    {
     "name": "stdout",
     "output_type": "stream",
     "text": [
      "[2, 2, 2, 1]\n",
      "[0.2857142857142857, 0.2857142857142857, 0.2857142857142857, 0.14285714285714285]\n",
      "1.0\n"
     ]
    }
   ],
   "source": [
    "Nk_in = [] # qtd de nós com grau k rede não direcionada\n",
    "Pk_in = [] # probabilidade\n",
    "\n",
    "for i in range(len(graus_rede_in)):\n",
    "    Nk_in.append(k_in.count(graus_rede_in[i]))\n",
    "\n",
    "print(Nk_in)\n",
    "\n",
    "for i in range(len(Nk_in)):\n",
    "    Pk_in.append(Nk_in[i]/7) # a rede tem 7 nós\n",
    "\n",
    "print(Pk_in)\n",
    "print(sum(Pk_in))"
   ]
  },
  {
   "cell_type": "markdown",
   "metadata": {},
   "source": [
    "DE SAÍDA"
   ]
  },
  {
   "cell_type": "code",
   "execution_count": 13,
   "metadata": {},
   "outputs": [
    {
     "name": "stdout",
     "output_type": "stream",
     "text": [
      "[0, 1, 2, 3]\n"
     ]
    }
   ],
   "source": [
    "# Graus da rede (da rede, não dos nós)\n",
    "graus_rede_out = list(set(k_out))\n",
    "\n",
    "print(graus_rede_out)"
   ]
  },
  {
   "cell_type": "code",
   "execution_count": 14,
   "metadata": {},
   "outputs": [
    {
     "name": "stdout",
     "output_type": "stream",
     "text": [
      "[2, 2, 2, 1]\n",
      "[0.2857142857142857, 0.2857142857142857, 0.2857142857142857, 0.14285714285714285]\n",
      "1.0\n"
     ]
    }
   ],
   "source": [
    "Nk_out = [] # qtd de nós com grau k rede não direcionada\n",
    "Pk_out = [] # probabilidade\n",
    "\n",
    "for i in range(len(graus_rede_out)):\n",
    "    Nk_out.append(k_out.count(graus_rede_out[i]))\n",
    "\n",
    "print(Nk_out)\n",
    "\n",
    "for i in range(len(Nk_out)):\n",
    "    Pk_out.append(Nk_out[i]/7) # a rede tem 7 nós\n",
    "\n",
    "print(Pk_out)\n",
    "print(sum(Pk_out))"
   ]
  }
 ],
 "metadata": {
  "kernelspec": {
   "display_name": "Python 3.10.4 64-bit",
   "language": "python",
   "name": "python3"
  },
  "language_info": {
   "codemirror_mode": {
    "name": "ipython",
    "version": 3
   },
   "file_extension": ".py",
   "mimetype": "text/x-python",
   "name": "python",
   "nbconvert_exporter": "python",
   "pygments_lexer": "ipython3",
   "version": "3.10.4"
  },
  "orig_nbformat": 4,
  "vscode": {
   "interpreter": {
    "hash": "26de051ba29f2982a8de78e945f0abaf191376122a1563185a90213a26c5da77"
   }
  }
 },
 "nbformat": 4,
 "nbformat_minor": 2
}
